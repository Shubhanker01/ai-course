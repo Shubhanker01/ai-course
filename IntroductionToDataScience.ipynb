{
  "nbformat": 4,
  "nbformat_minor": 0,
  "metadata": {
    "colab": {
      "provenance": [],
      "mount_file_id": "1xVJG9qFXEt5FL4ul0VSuJe2xr1ztYALi",
      "authorship_tag": "ABX9TyN2BiMQVNNBc+/QDYquLVtw",
      "include_colab_link": true
    },
    "kernelspec": {
      "name": "python3",
      "display_name": "Python 3"
    },
    "language_info": {
      "name": "python"
    }
  },
  "cells": [
    {
      "cell_type": "markdown",
      "metadata": {
        "id": "view-in-github",
        "colab_type": "text"
      },
      "source": [
        "<a href=\"https://colab.research.google.com/github/Shubhanker01/ai-course/blob/main/IntroductionToDataScience.ipynb\" target=\"_parent\"><img src=\"https://colab.research.google.com/assets/colab-badge.svg\" alt=\"Open In Colab\"/></a>"
      ]
    },
    {
      "cell_type": "code",
      "execution_count": null,
      "metadata": {
        "id": "hflUdp3wUza0"
      },
      "outputs": [],
      "source": [
        "a=10\n",
        "b=20"
      ]
    },
    {
      "cell_type": "code",
      "source": [],
      "metadata": {
        "id": "RSayBaT0vCgv"
      },
      "execution_count": null,
      "outputs": []
    },
    {
      "cell_type": "code",
      "source": [
        "print(a+b)"
      ],
      "metadata": {
        "colab": {
          "base_uri": "https://localhost:8080/"
        },
        "id": "OD23XGvmWxDT",
        "outputId": "a0f34d93-cfd0-4333-e6f2-871c36512b68"
      },
      "execution_count": null,
      "outputs": [
        {
          "output_type": "stream",
          "name": "stdout",
          "text": [
            "30\n"
          ]
        }
      ]
    },
    {
      "cell_type": "code",
      "source": [
        "# using pandas\n",
        "import pandas as pd\n",
        "df = pd.read_csv('sample_data/mnist_test.csv')\n",
        "print(df)"
      ],
      "metadata": {
        "colab": {
          "base_uri": "https://localhost:8080/"
        },
        "id": "I90tebdJbzKh",
        "outputId": "2c925aa6-42d6-475b-9cb7-09d7edbb115e"
      },
      "execution_count": null,
      "outputs": [
        {
          "output_type": "stream",
          "name": "stdout",
          "text": [
            "      7  0  0.1  0.2  0.3  0.4  0.5  0.6  0.7  0.8  ...  0.658  0.659  0.660  \\\n",
            "0     2  0    0    0    0    0    0    0    0    0  ...      0      0      0   \n",
            "1     1  0    0    0    0    0    0    0    0    0  ...      0      0      0   \n",
            "2     0  0    0    0    0    0    0    0    0    0  ...      0      0      0   \n",
            "3     4  0    0    0    0    0    0    0    0    0  ...      0      0      0   \n",
            "4     1  0    0    0    0    0    0    0    0    0  ...      0      0      0   \n",
            "...  .. ..  ...  ...  ...  ...  ...  ...  ...  ...  ...    ...    ...    ...   \n",
            "9994  2  0    0    0    0    0    0    0    0    0  ...      0      0      0   \n",
            "9995  3  0    0    0    0    0    0    0    0    0  ...      0      0      0   \n",
            "9996  4  0    0    0    0    0    0    0    0    0  ...      0      0      0   \n",
            "9997  5  0    0    0    0    0    0    0    0    0  ...      0      0      0   \n",
            "9998  6  0    0    0    0    0    0    0    0    0  ...      0      0      0   \n",
            "\n",
            "      0.661  0.662  0.663  0.664  0.665  0.666  0.667  \n",
            "0         0      0      0      0      0      0      0  \n",
            "1         0      0      0      0      0      0      0  \n",
            "2         0      0      0      0      0      0      0  \n",
            "3         0      0      0      0      0      0      0  \n",
            "4         0      0      0      0      0      0      0  \n",
            "...     ...    ...    ...    ...    ...    ...    ...  \n",
            "9994      0      0      0      0      0      0      0  \n",
            "9995      0      0      0      0      0      0      0  \n",
            "9996      0      0      0      0      0      0      0  \n",
            "9997      0      0      0      0      0      0      0  \n",
            "9998      0      0      0      0      0      0      0  \n",
            "\n",
            "[9999 rows x 785 columns]\n"
          ]
        }
      ]
    },
    {
      "cell_type": "code",
      "source": [
        "df1 = pd.read_csv('sample_data/california_housing_test.csv')\n",
        "print(df1)\n",
        "df2 = pd.DataFrame({\n",
        "    'longitude':[-122.05],\n",
        "    'latitude':[37.37],\n",
        "    'housing_median_age':[5.88],\n",
        "    'total_rooms':[8.9],\n",
        "    'total_bedrooms':[9.8],\n",
        "    'population':[999.9],\n",
        "    'households':[833.4],\n",
        "    'median_income':[9.9],\n",
        "    'median_house_value':[9.00]\n",
        "})\n",
        "dfMerged = df1.merge(df2)\n",
        "print(dfMerged)\n"
      ],
      "metadata": {
        "colab": {
          "base_uri": "https://localhost:8080/"
        },
        "id": "dqa2Aj1StW30",
        "outputId": "b0553be9-d6b9-4dcc-a4f0-a51a0e0af310"
      },
      "execution_count": null,
      "outputs": [
        {
          "output_type": "stream",
          "name": "stdout",
          "text": [
            "      longitude  latitude  housing_median_age  total_rooms  total_bedrooms  \\\n",
            "0       -122.05     37.37                27.0       3885.0           661.0   \n",
            "1       -118.30     34.26                43.0       1510.0           310.0   \n",
            "2       -117.81     33.78                27.0       3589.0           507.0   \n",
            "3       -118.36     33.82                28.0         67.0            15.0   \n",
            "4       -119.67     36.33                19.0       1241.0           244.0   \n",
            "...         ...       ...                 ...          ...             ...   \n",
            "2995    -119.86     34.42                23.0       1450.0           642.0   \n",
            "2996    -118.14     34.06                27.0       5257.0          1082.0   \n",
            "2997    -119.70     36.30                10.0        956.0           201.0   \n",
            "2998    -117.12     34.10                40.0         96.0            14.0   \n",
            "2999    -119.63     34.42                42.0       1765.0           263.0   \n",
            "\n",
            "      population  households  median_income  median_house_value  \n",
            "0         1537.0       606.0         6.6085            344700.0  \n",
            "1          809.0       277.0         3.5990            176500.0  \n",
            "2         1484.0       495.0         5.7934            270500.0  \n",
            "3           49.0        11.0         6.1359            330000.0  \n",
            "4          850.0       237.0         2.9375             81700.0  \n",
            "...          ...         ...            ...                 ...  \n",
            "2995      1258.0       607.0         1.1790            225000.0  \n",
            "2996      3496.0      1036.0         3.3906            237200.0  \n",
            "2997       693.0       220.0         2.2895             62000.0  \n",
            "2998        46.0        14.0         3.2708            162500.0  \n",
            "2999       753.0       260.0         8.5608            500001.0  \n",
            "\n",
            "[3000 rows x 9 columns]\n",
            "Empty DataFrame\n",
            "Columns: [longitude, latitude, housing_median_age, total_rooms, total_bedrooms, population, households, median_income, median_house_value]\n",
            "Index: []\n"
          ]
        }
      ]
    },
    {
      "cell_type": "code",
      "source": [
        "# importing pandas\n",
        "import pandas as pd\n",
        "# reading csv file\n",
        "df = pd.read_csv('sample_data/Uncleandata.csv')\n",
        "# remove duplicate rows\n",
        "df = df.drop_duplicates()\n",
        "# remove id containing nan\n",
        "df = df.dropna(subset=['ID'])\n",
        "# remove space and captalise letters\n",
        "df['Name'] = df['Name'].str.strip().str.capitalize()\n",
        "# preprocess gender\n",
        "# create gender mapping first\n",
        "gender_map = {\n",
        "    'm':'Male',\n",
        "    'male':'Male',\n",
        "    'f':'Female',\n",
        "    'female':'Female'\n",
        "}\n",
        "df['Gender'] = df['Gender'].str.lower().map(gender_map)\n",
        "# preprocessing city\n",
        "# creating city mapping\n",
        "# dictionary\n",
        "city_map = {\n",
        "    'newyork':'New York',\n",
        "    'new york':'New York',\n",
        "    'ny':'New York',\n",
        "    'la':'Los Angeles',\n",
        "    'los angeles':'Los Angeles',\n",
        "    'chicago':'Chicago',\n",
        "    'boston':'Boston',\n",
        "    'san francisco':'San Francisco',\n",
        "    'sf':'San Francisco',\n",
        "    'houston':'Houston',\n",
        "    'hou':'Houston'\n",
        "}\n",
        "df['City']=df['City'].str.lower().map(city_map)\n",
        "\n",
        "# changing salary representation\n",
        "df['Salary'] = df['Salary'].replace('[\\$,]','',regex=True).astype(float)\n",
        "median_salary = df['Salary'].median()\n",
        "df['Salary'] = df['Salary'].apply(lambda x: median_salary if x < 5000 else x)\n",
        "\n",
        "def replaceNanWithZero(age):\n",
        "    if pd.isna(age):\n",
        "        return 0\n",
        "    else:\n",
        "        return age\n",
        "df['Age'] = df['Age'].apply(replaceNanWithZero)\n",
        "\n",
        "# find median age\n",
        "median_age = df['Age'].median()\n",
        "print(median_age)\n",
        "\n",
        "def replace_extremeAge(age):\n",
        "    if age > 60 or age < 18:\n",
        "        return median_age\n",
        "    else:\n",
        "        return age\n",
        "df['Age'] = df['Age'].apply(replace_extremeAge)\n",
        "df['Joining_Date'] = pd.to_datetime(df['Joining_Date'],errors='coerce')\n",
        "df['Joining_Date'] = df['Joining_Date'].dt.strftime('%d-%m-%y')\n",
        "median_date = pd.to_datetime(df['Joining_Date']).median()\n",
        "df['Joining_Date'] = df['Joining_Date'].fillna(median_date.strftime('%d-%m-%y'))\n",
        "\n",
        "\n",
        "# fix height\n",
        "df['Height'] = df['Height'].fillna(df['Height'].median())\n",
        "# drop total sales\n",
        "df = df.drop('Total_Sales_2025',axis=1)\n",
        "# remove nan from fraud\n",
        "df['Fraud'] = df['Fraud'].fillna(0)\n",
        "# saving the processed data\n",
        "df.to_csv('processed_data.csv',index=False)\n",
        "print(df)"
      ],
      "metadata": {
        "colab": {
          "base_uri": "https://localhost:8080/"
        },
        "id": "xedx4eD_vEfi",
        "outputId": "1e5bdf0a-2832-4954-e35a-85dc2bea3a04"
      },
      "execution_count": null,
      "outputs": [
        {
          "output_type": "stream",
          "name": "stdout",
          "text": [
            "29.5\n",
            "       ID     Name  Gender   Age           City    Salary Joining_Date  \\\n",
            "0   101.0    Alice    Male  25.0       New York   50000.0     01-12-21   \n",
            "1   102.0      Bob    Male  29.5       New York   60000.0     30-09-17   \n",
            "2   103.0  Charlie  Female  45.0       New York   70000.0     15-07-20   \n",
            "3   104.0     Dave  Female  39.0    Los Angeles   80000.0     30-09-17   \n",
            "4   105.0      Eve  Female  29.5    Los Angeles   90000.0     30-09-17   \n",
            "5   106.0    Frank    Male  30.0  San Francisco   10000.0     25-01-17   \n",
            "6   107.0    Grace    Male  29.0  San Francisco  120000.0     20-02-22   \n",
            "7   108.0    Henry  Female  27.0  San Francisco   65000.0     10-03-23   \n",
            "8   109.0   Isabel  Female  29.5         Boston   55000.0     21-05-19   \n",
            "9   110.0    Jason    Male  37.0         Boston   45000.0     30-09-17   \n",
            "10  111.0     Kate  Female  29.5        Chicago   76000.0     30-09-17   \n",
            "11  112.0      Leo  Female  29.5        Chicago   85000.0     30-09-17   \n",
            "12  113.0      Mia    Male  29.5        Houston   95000.0     11-12-15   \n",
            "13  114.0   Nathan    Male  34.0        Houston   65000.0     22-03-14   \n",
            "14  115.0   Olivia  Female  29.0        Houston  130000.0     14-07-13   \n",
            "15  116.0     Paul    Male  31.0        Houston   40000.0     05-06-12   \n",
            "\n",
            "    Height  Fraud  \n",
            "0     65.0    0.0  \n",
            "1    170.0    1.0  \n",
            "2    180.0    0.0  \n",
            "3     68.0    1.0  \n",
            "4     72.0    0.0  \n",
            "5    155.0    0.0  \n",
            "6     69.0    1.0  \n",
            "7     73.0    0.0  \n",
            "8    175.0    0.0  \n",
            "9     69.0    0.0  \n",
            "10   162.0    0.0  \n",
            "11    71.0    1.0  \n",
            "12    73.0    0.0  \n",
            "13   157.0    0.0  \n",
            "14   170.0    1.0  \n",
            "15    68.0    0.0  \n"
          ]
        },
        {
          "output_type": "stream",
          "name": "stderr",
          "text": [
            "<>:39: SyntaxWarning: invalid escape sequence '\\$'\n",
            "<>:39: SyntaxWarning: invalid escape sequence '\\$'\n",
            "/tmp/ipython-input-676797115.py:39: SyntaxWarning: invalid escape sequence '\\$'\n",
            "  df['Salary'] = df['Salary'].replace('[\\$,]','',regex=True).astype(float)\n",
            "/tmp/ipython-input-676797115.py:62: UserWarning: Could not infer format, so each element will be parsed individually, falling back to `dateutil`. To ensure parsing is consistent and as-expected, please specify a format.\n",
            "  median_date = pd.to_datetime(df['Joining_Date']).median()\n"
          ]
        }
      ]
    },
    {
      "cell_type": "code",
      "source": [
        "import pandas as pd\n",
        "import numpy as np\n",
        "data = {\n",
        "    'scores':[38,83,23,82,91,70,101]\n",
        "}\n",
        "df = pd.DataFrame(data['scores'])\n",
        "# print mean\n",
        "print(df.mean())\n",
        "# print median\n",
        "print(df.median())\n",
        "print(df.var())\n",
        "print(df.std())"
      ],
      "metadata": {
        "id": "kD94xP97vsif",
        "colab": {
          "base_uri": "https://localhost:8080/"
        },
        "outputId": "a30d2ed3-80c4-4eb7-d3ed-8364d5177499"
      },
      "execution_count": 5,
      "outputs": [
        {
          "output_type": "stream",
          "name": "stdout",
          "text": [
            "0    69.714286\n",
            "dtype: float64\n",
            "0    82.0\n",
            "dtype: float64\n",
            "0    824.571429\n",
            "dtype: float64\n",
            "0    28.715352\n",
            "dtype: float64\n"
          ]
        }
      ]
    },
    {
      "cell_type": "code",
      "source": [],
      "metadata": {
        "id": "_ILSEal6dDde"
      },
      "execution_count": null,
      "outputs": []
    }
  ]
}