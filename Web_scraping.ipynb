{
  "nbformat": 4,
  "nbformat_minor": 0,
  "metadata": {
    "colab": {
      "provenance": [],
      "authorship_tag": "ABX9TyPY7sIzOcRXGQQqrzb66I+f",
      "include_colab_link": true
    },
    "kernelspec": {
      "name": "python3",
      "display_name": "Python 3"
    },
    "language_info": {
      "name": "python"
    }
  },
  "cells": [
    {
      "cell_type": "markdown",
      "metadata": {
        "id": "view-in-github",
        "colab_type": "text"
      },
      "source": [
        "<a href=\"https://colab.research.google.com/github/Shubhanker01/ai-course/blob/main/Web_scraping.ipynb\" target=\"_parent\"><img src=\"https://colab.research.google.com/assets/colab-badge.svg\" alt=\"Open In Colab\"/></a>"
      ]
    },
    {
      "cell_type": "code",
      "execution_count": 1,
      "metadata": {
        "id": "VaisR3W4zeEj"
      },
      "outputs": [],
      "source": [
        "# web scraping\n",
        "import requests\n",
        "from bs4 import BeautifulSoup\n",
        "import pandas as pd\n",
        "from urllib import robotparser\n"
      ]
    },
    {
      "cell_type": "code",
      "source": [
        "rp = robotparser.RobotFileParser()\n",
        "rp.set_url('https://books.toscrape.com/robots.txt')\n",
        "rp.read()\n",
        "\n",
        "# if robot.txt file not found\n",
        "if not rp.can_fetch('*', '/catalogue'):\n",
        "    print('Robot.txt file not found')\n",
        "else:\n",
        "    print(\"Scrapping allowed\")\n",
        "    books_data = []\n",
        "    # iterate through page 1 to 5\n",
        "    for page in range(1, 6):\n",
        "        response = requests.get(f'https://books.toscrape.com/catalogue/page-{page}.html')\n",
        "        soup = BeautifulSoup(response.text, 'html.parser')\n",
        "        for book in soup.find_all('article', class_='product_pod'):\n",
        "              books_data.append({\n",
        "                  'title':book.h3.a.get('title'),\n",
        "                  'price':float(book.find('p', class_=\"price_color\").text[2:]),\n",
        "                  'rating':book.p['class'][1]\n",
        "              })\n",
        "    df = pd.DataFrame(books_data)\n",
        "    df.to_csv('datasets/books_datasets.csv',index = False)\n",
        "    print(df.head())\n"
      ],
      "metadata": {
        "colab": {
          "base_uri": "https://localhost:8080/"
        },
        "collapsed": true,
        "id": "ggwOIEcC01Lt",
        "outputId": "ac8ae4ff-067f-4c57-e06c-5fe8eff156b0"
      },
      "execution_count": 4,
      "outputs": [
        {
          "output_type": "stream",
          "name": "stdout",
          "text": [
            "Scrapping allowed\n",
            "                                   title  price rating\n",
            "0                   A Light in the Attic  51.77  Three\n",
            "1                     Tipping the Velvet  53.74    One\n",
            "2                             Soumission  50.10    One\n",
            "3                          Sharp Objects  47.82   Four\n",
            "4  Sapiens: A Brief History of Humankind  54.23   Five\n"
          ]
        }
      ]
    }
  ]
}