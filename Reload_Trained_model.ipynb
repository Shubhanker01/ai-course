{
  "nbformat": 4,
  "nbformat_minor": 0,
  "metadata": {
    "colab": {
      "provenance": [],
      "authorship_tag": "ABX9TyOAHM4XrDl6WeDKRiRZjcxI",
      "include_colab_link": true
    },
    "kernelspec": {
      "name": "python3",
      "display_name": "Python 3"
    },
    "language_info": {
      "name": "python"
    }
  },
  "cells": [
    {
      "cell_type": "markdown",
      "metadata": {
        "id": "view-in-github",
        "colab_type": "text"
      },
      "source": [
        "<a href=\"https://colab.research.google.com/github/Shubhanker01/ai-course/blob/main/Reload_Trained_model.ipynb\" target=\"_parent\"><img src=\"https://colab.research.google.com/assets/colab-badge.svg\" alt=\"Open In Colab\"/></a>"
      ]
    },
    {
      "cell_type": "code",
      "execution_count": 2,
      "metadata": {
        "colab": {
          "base_uri": "https://localhost:8080/"
        },
        "id": "MT4Q12jipqyE",
        "outputId": "df767ac8-88d9-45d8-8f08-bdb7cb291b18"
      },
      "outputs": [
        {
          "output_type": "stream",
          "name": "stdout",
          "text": [
            "fit_intercept : True\n",
            "copy_X : True\n",
            "n_jobs : None\n",
            "positive : False\n",
            "n_features_in_ : 1\n",
            "coef_ : [1252.57447803]\n",
            "rank_ : 1\n",
            "singular_ : [3582.73638439]\n",
            "intercept_ : -826197.3304248471\n"
          ]
        }
      ],
      "source": [
        "# reload trained model\n",
        "import joblib\n",
        "loaded_model = joblib.load('/content/house_price_model.pkl')\n",
        "# print(dir(loaded_model))\n",
        "\n",
        "for attr, value in loaded_model.__dict__.items():\n",
        "  print(f'{attr} : {value}')"
      ]
    },
    {
      "cell_type": "code",
      "source": [
        "import numpy as np\n",
        "new_area = np.array([[1900]])\n",
        "predicted_price = loaded_model.predict(new_area)\n",
        "print(predicted_price)"
      ],
      "metadata": {
        "colab": {
          "base_uri": "https://localhost:8080/"
        },
        "id": "KilAhvcps8S4",
        "outputId": "75c0239f-2109-4f5d-8a0d-00681571580a"
      },
      "execution_count": 6,
      "outputs": [
        {
          "output_type": "stream",
          "name": "stdout",
          "text": [
            "[1553694.17783318]\n"
          ]
        }
      ]
    }
  ]
}