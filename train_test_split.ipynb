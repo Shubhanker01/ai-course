{
  "nbformat": 4,
  "nbformat_minor": 0,
  "metadata": {
    "colab": {
      "provenance": [],
      "authorship_tag": "ABX9TyMTBuuPmLVQycXlkAdGn1Un",
      "include_colab_link": true
    },
    "kernelspec": {
      "name": "python3",
      "display_name": "Python 3"
    },
    "language_info": {
      "name": "python"
    }
  },
  "cells": [
    {
      "cell_type": "markdown",
      "metadata": {
        "id": "view-in-github",
        "colab_type": "text"
      },
      "source": [
        "<a href=\"https://colab.research.google.com/github/Shubhanker01/ai-course/blob/main/train_test_split.ipynb\" target=\"_parent\"><img src=\"https://colab.research.google.com/assets/colab-badge.svg\" alt=\"Open In Colab\"/></a>"
      ]
    },
    {
      "cell_type": "code",
      "execution_count": 4,
      "metadata": {
        "colab": {
          "base_uri": "https://localhost:8080/"
        },
        "id": "BbbJnzFuQbb0",
        "outputId": "b911cd30-3fd2-412a-f245-ddfe88c2319f"
      },
      "outputs": [
        {
          "output_type": "stream",
          "name": "stdout",
          "text": [
            "   Age  Salary\n",
            "4   51   60000\n",
            "2   38   40000\n",
            "0   25    5000\n",
            "3   42   47000\n"
          ]
        }
      ],
      "source": [
        "# code to train test and split data into training and testing\n",
        "import pandas as pd\n",
        "from sklearn.model_selection import train_test_split\n",
        "data = pd.DataFrame({\n",
        "    'Age':[25,30,38,42,51],\n",
        "    'Salary':[5000,16000,40000,47000,60000],\n",
        "    'Purchased':[0,0,0,1,1]\n",
        "})\n",
        "x = data[['Age','Salary']]\n",
        "y = data['Purchased']\n",
        "# split into training and testing data\n",
        "x_train,x_test,y_train,y_test = train_test_split(x,y,test_size=0.2,random_state=42)\n",
        "print(x_train)"
      ]
    }
  ]
}