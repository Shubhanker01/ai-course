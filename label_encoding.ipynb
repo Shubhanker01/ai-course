{
  "nbformat": 4,
  "nbformat_minor": 0,
  "metadata": {
    "colab": {
      "provenance": [],
      "authorship_tag": "ABX9TyPpYCpEIMBCFxuMh3DzOTyu",
      "include_colab_link": true
    },
    "kernelspec": {
      "name": "python3",
      "display_name": "Python 3"
    },
    "language_info": {
      "name": "python"
    }
  },
  "cells": [
    {
      "cell_type": "markdown",
      "metadata": {
        "id": "view-in-github",
        "colab_type": "text"
      },
      "source": [
        "<a href=\"https://colab.research.google.com/github/Shubhanker01/ai-course/blob/main/label_encoding.ipynb\" target=\"_parent\"><img src=\"https://colab.research.google.com/assets/colab-badge.svg\" alt=\"Open In Colab\"/></a>"
      ]
    },
    {
      "cell_type": "code",
      "execution_count": 2,
      "metadata": {
        "colab": {
          "base_uri": "https://localhost:8080/"
        },
        "id": "nD-BDzhrwVGH",
        "outputId": "50accfca-c1ba-489c-b760-c7a3bdf342c9"
      },
      "outputs": [
        {
          "output_type": "stream",
          "name": "stdout",
          "text": [
            "    Color Size isAvailable\n",
            "0     red    S         yes\n",
            "1   green    M          no\n",
            "2    blue    L         yes\n",
            "3  yellow    M          no\n",
            "4  orange    L         yes\n",
            "\n",
            " Encoded data\n",
            "    Color Size isAvailable  Color_encoded  Size_encoded  isAvailable_encoded\n",
            "0     red    S         yes              3             2                    1\n",
            "1   green    M          no              1             1                    0\n",
            "2    blue    L         yes              0             0                    1\n",
            "3  yellow    M          no              4             1                    0\n",
            "4  orange    L         yes              2             0                    1\n"
          ]
        }
      ],
      "source": [
        "import pandas as pd\n",
        "# using label encoders\n",
        "from sklearn.preprocessing import LabelEncoder\n",
        "data = {\n",
        "    'Color':['red','green','blue','yellow','orange'],\n",
        "    'Size':['S','M','L','M','L'],\n",
        "    'isAvailable':['yes','no','yes','no','yes']\n",
        "}\n",
        "df = pd.DataFrame(data)\n",
        "print(df)\n",
        "\n",
        "label_encoders = {}\n",
        "for column in df.columns:\n",
        "    le = LabelEncoder()\n",
        "    df[column + '_encoded'] = le.fit_transform(df[column])\n",
        "    label_encoders[column] = le\n",
        "\n",
        "print(\"\\n Encoded data\")\n",
        "print(df)\n"
      ]
    }
  ]
}