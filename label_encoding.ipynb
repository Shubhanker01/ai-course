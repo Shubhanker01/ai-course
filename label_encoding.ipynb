{
  "nbformat": 4,
  "nbformat_minor": 0,
  "metadata": {
    "colab": {
      "provenance": [],
      "authorship_tag": "ABX9TyNS04yhv9Y93xp3C4QwA5m0",
      "include_colab_link": true
    },
    "kernelspec": {
      "name": "python3",
      "display_name": "Python 3"
    },
    "language_info": {
      "name": "python"
    }
  },
  "cells": [
    {
      "cell_type": "markdown",
      "metadata": {
        "id": "view-in-github",
        "colab_type": "text"
      },
      "source": [
        "<a href=\"https://colab.research.google.com/github/Shubhanker01/ai-course/blob/main/label_encoding.ipynb\" target=\"_parent\"><img src=\"https://colab.research.google.com/assets/colab-badge.svg\" alt=\"Open In Colab\"/></a>"
      ]
    },
    {
      "cell_type": "code",
      "execution_count": 1,
      "metadata": {
        "colab": {
          "base_uri": "https://localhost:8080/"
        },
        "id": "nD-BDzhrwVGH",
        "outputId": "5365ae2a-3502-4689-a424-7d2e9aa4537a"
      },
      "outputs": [
        {
          "output_type": "stream",
          "name": "stdout",
          "text": [
            "    Color Size isAvailable\n",
            "0     red    S         yes\n",
            "1   green    M          no\n",
            "2    blue    L         yes\n",
            "3  yellow    M          no\n",
            "4  orange    L         yes\n",
            "\n",
            " Encoded data\n",
            "    Color Size isAvailable  Color_encoded  Size_encoded  isAvailable_encoded\n",
            "0     red    S         yes              3             2                    1\n",
            "1   green    M          no              1             1                    0\n",
            "2    blue    L         yes              0             0                    1\n",
            "3  yellow    M          no              4             1                    0\n",
            "4  orange    L         yes              2             0                    1\n",
            "{'Color': LabelEncoder(), 'Size': LabelEncoder(), 'isAvailable': LabelEncoder()}\n"
          ]
        }
      ],
      "source": [
        "import pandas as pd\n",
        "# using label encoders\n",
        "from sklearn.preprocessing import LabelEncoder\n",
        "data = {\n",
        "    'Color':['red','green','blue','yellow','orange'],\n",
        "    'Size':['S','M','L','M','L'],\n",
        "    'isAvailable':['yes','no','yes','no','yes']\n",
        "}\n",
        "df = pd.DataFrame(data)\n",
        "print(df)\n",
        "\n",
        "label_encoders = {}\n",
        "for column in df.columns:\n",
        "    le = LabelEncoder()\n",
        "    df[column + '_encoded'] = le.fit_transform(df[column])\n",
        "    label_encoders[column] = le\n",
        "\n",
        "print(\"\\n Encoded data\")\n",
        "print(df)\n",
        "print(label_encoders)\n"
      ]
    },
    {
      "cell_type": "code",
      "source": [
        "# using one hot encoding and oridinal encoding\n",
        "import pandas as pd\n",
        "from sklearn.preprocessing import OneHotEncoder, OrdinalEncoder\n",
        "\n",
        "mydata = {\n",
        "    'Color':['Red','Green','Blue'],\n",
        "    'Size':['Small','Medium','Large']\n",
        "}\n",
        "df = pd.DataFrame(mydata)\n",
        "print(df)\n",
        "\n",
        "# one hot encoding for color\n",
        "# sparse_output false will return Numpy Array instead of sparse matrix\n",
        "one_hot_encoder = OneHotEncoder(sparse_output=False)\n",
        "color_encoded = one_hot_encoder.fit_transform(df[['Color']])\n",
        "# get feature names out automatically creates column name\n",
        "color_encoded_df = pd.DataFrame(color_encoded, columns=one_hot_encoder.get_feature_names_out(['Color']))\n",
        "print(color_encoded_df)\n",
        "\n",
        "# ordinal encoding for size three categories small,medium and large\n",
        "ordinal_encoder = OrdinalEncoder(categories=[['Small','Medium','Large']])\n",
        "size_encoded = ordinal_encoder.fit_transform(df[['Size']])\n",
        "size_encoded_df = pd.DataFrame(size_encoded, columns=['Size_encoded'])\n",
        "\n",
        "print(size_encoded_df)"
      ],
      "metadata": {
        "colab": {
          "base_uri": "https://localhost:8080/"
        },
        "id": "zQaTpiCKY3H2",
        "outputId": "06d26459-715a-4eca-ac12-31e2717cdaa2"
      },
      "execution_count": 4,
      "outputs": [
        {
          "output_type": "stream",
          "name": "stdout",
          "text": [
            "   Color    Size\n",
            "0    Red   Small\n",
            "1  Green  Medium\n",
            "2   Blue   Large\n",
            "   Color_Blue  Color_Green  Color_Red\n",
            "0         0.0          0.0        1.0\n",
            "1         0.0          1.0        0.0\n",
            "2         1.0          0.0        0.0\n",
            "   Size_encoded\n",
            "0           0.0\n",
            "1           1.0\n",
            "2           2.0\n"
          ]
        }
      ]
    }
  ]
}